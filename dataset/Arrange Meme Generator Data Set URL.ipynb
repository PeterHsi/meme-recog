{
 "cells": [
  {
   "cell_type": "markdown",
   "metadata": {
    "ExecuteTime": {
     "end_time": "2019-05-25T15:20:44.363323Z",
     "start_time": "2019-05-25T15:20:42.725945Z"
    }
   },
   "source": [
    "# 矯正 Meme Generator Data Set 的 URL\n",
    "\n",
    "由於 [Meme Generator Data Set](https://www.kaggle.com/electron0zero/memegenerator-dataset/home) 的 URL 無法直接連到圖片連結，故設計此 Code 處理之：\n",
    "\n",
    "1. 載入套件"
   ]
  },
  {
   "cell_type": "code",
   "execution_count": null,
   "metadata": {},
   "outputs": [],
   "source": [
    "import numpy as np\n",
    "import pandas as pd\n",
    "import os\n",
    "import requests\n",
    "from bs4 import BeautifulSoup\n",
    "import re"
   ]
  },
  {
   "cell_type": "markdown",
   "metadata": {},
   "source": [
    "2. 讀入 `memegenerator.csv` 檔案"
   ]
  },
  {
   "cell_type": "code",
   "execution_count": 2,
   "metadata": {
    "ExecuteTime": {
     "end_time": "2019-05-25T15:20:46.423480Z",
     "start_time": "2019-05-25T15:20:45.987884Z"
    }
   },
   "outputs": [],
   "source": [
    "df1 = pd.read_csv('memegenerator.csv', delimiter=',')\n",
    "df1.dataframeName = 'memegenerator.csv'"
   ]
  },
  {
   "cell_type": "markdown",
   "metadata": {},
   "source": [
    "3. 設計可從 webarchive.loc.gov 得到第一個備份的連結 URL 的函數"
   ]
  },
  {
   "cell_type": "code",
   "execution_count": 3,
   "metadata": {
    "ExecuteTime": {
     "end_time": "2019-05-25T15:20:55.728354Z",
     "start_time": "2019-05-25T15:20:55.721374Z"
    }
   },
   "outputs": [],
   "source": [
    "def get_arc_link(url):\n",
    "    html = requests.get(url)\n",
    "    soup = BeautifulSoup(html.text, 'html.parser')\n",
    "    return soup.find(\"a\", href=re.compile(\"/h\"))['href']"
   ]
  },
  {
   "cell_type": "markdown",
   "metadata": {},
   "source": [
    "4. 將所有資料替換掉"
   ]
  },
  {
   "cell_type": "code",
   "execution_count": null,
   "metadata": {
    "ExecuteTime": {
     "start_time": "2019-05-25T15:20:58.943Z"
    }
   },
   "outputs": [],
   "source": [
    "for i in range(1, len(df1)):\n",
    "    new_url = get_arc_link(df1[\"Archived URL\"][i-1])\n",
    "    df1.loc[\"Archived URL\", i-1] = new_url"
   ]
  },
  {
   "cell_type": "markdown",
   "metadata": {},
   "source": [
    "5. 儲存調整後檔案"
   ]
  },
  {
   "cell_type": "code",
   "execution_count": null,
   "metadata": {
    "ExecuteTime": {
     "end_time": "2019-05-25T15:17:17.340852Z",
     "start_time": "2019-05-25T15:17:17.303944Z"
    },
    "scrolled": true
   },
   "outputs": [],
   "source": [
    "df1.to_csv('memegenerator_arrange.csv')"
   ]
  }
 ],
 "metadata": {
  "hide_input": false,
  "kernelspec": {
   "display_name": "Python 3",
   "language": "python",
   "name": "python3"
  },
  "language_info": {
   "codemirror_mode": {
    "name": "ipython",
    "version": 3
   },
   "file_extension": ".py",
   "mimetype": "text/x-python",
   "name": "python",
   "nbconvert_exporter": "python",
   "pygments_lexer": "ipython3",
   "version": "3.6.8"
  },
  "varInspector": {
   "cols": {
    "lenName": 16,
    "lenType": 16,
    "lenVar": 40
   },
   "kernels_config": {
    "python": {
     "delete_cmd_postfix": "",
     "delete_cmd_prefix": "del ",
     "library": "var_list.py",
     "varRefreshCmd": "print(var_dic_list())"
    },
    "r": {
     "delete_cmd_postfix": ") ",
     "delete_cmd_prefix": "rm(",
     "library": "var_list.r",
     "varRefreshCmd": "cat(var_dic_list()) "
    }
   },
   "types_to_exclude": [
    "module",
    "function",
    "builtin_function_or_method",
    "instance",
    "_Feature"
   ],
   "window_display": false
  }
 },
 "nbformat": 4,
 "nbformat_minor": 2
}
