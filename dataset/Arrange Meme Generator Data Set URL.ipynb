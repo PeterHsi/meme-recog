{
 "cells": [
  {
   "cell_type": "markdown",
   "metadata": {
    "ExecuteTime": {
     "end_time": "2019-05-25T15:20:44.363323Z",
     "start_time": "2019-05-25T15:20:42.725945Z"
    }
   },
   "source": [
    "# 矯正 Meme Generator Data Set 的 URL\n",
    "\n",
    "由於 [Meme Generator Data Set](https://www.kaggle.com/electron0zero/memegenerator-dataset/home) 的 URL 無法直接連到圖片連結，故設計此 Code 處理之：\n",
    "\n",
    "1. 載入套件"
   ]
  },
  {
   "cell_type": "code",
   "execution_count": 1,
   "metadata": {
    "ExecuteTime": {
     "end_time": "2019-05-26T03:46:15.247605Z",
     "start_time": "2019-05-26T03:46:13.912974Z"
    }
   },
   "outputs": [],
   "source": [
    "import numpy as np\n",
    "import pandas as pd\n",
    "import os\n",
    "import requests\n",
    "from bs4 import BeautifulSoup\n",
    "import re"
   ]
  },
  {
   "cell_type": "markdown",
   "metadata": {},
   "source": [
    "2. 撰寫從 http://webarchive.loc.gov 取得第一筆備份連結的函數"
   ]
  },
  {
   "cell_type": "code",
   "execution_count": 2,
   "metadata": {
    "ExecuteTime": {
     "end_time": "2019-05-26T03:46:16.498787Z",
     "start_time": "2019-05-26T03:46:16.491808Z"
    }
   },
   "outputs": [],
   "source": [
    "def get_arc_link(url):\n",
    "    html = requests.get(url)\n",
    "    soup = BeautifulSoup(html.text, 'html.parser')\n",
    "    return soup.find(\"a\", href=re.compile(\"/h\"))['href']"
   ]
  },
  {
   "cell_type": "markdown",
   "metadata": {},
   "source": [
    "3. 設定起始參數"
   ]
  },
  {
   "cell_type": "code",
   "execution_count": 3,
   "metadata": {
    "ExecuteTime": {
     "end_time": "2019-05-26T03:46:20.717014Z",
     "start_time": "2019-05-26T03:46:20.713021Z"
    }
   },
   "outputs": [],
   "source": [
    "startRows = 1\n",
    "nRowsRead = 10\n",
    "totalRaw = 57652"
   ]
  },
  {
   "cell_type": "markdown",
   "metadata": {},
   "source": [
    "4. 逐行替換"
   ]
  },
  {
   "cell_type": "code",
   "execution_count": null,
   "metadata": {
    "ExecuteTime": {
     "start_time": "2019-05-26T03:50:11.677Z"
    }
   },
   "outputs": [],
   "source": [
    "curRows = 220\n",
    "while curRows < totalRaw:\n",
    "    df = pd.read_csv('memegenerator.csv', delimiter=',',\n",
    "                      nrows = nRowsRead, skiprows = range(1,curRows)) \n",
    "    # 處理無法讀取圖片的連結\n",
    "    for i in range(0, len(df)):\n",
    "        new_url = get_arc_link(df[\"Archived URL\"][i])\n",
    "        df.loc[i, \"Archived URL\"] = new_url\n",
    "    df\n",
    "    # 儲存整理過後 csv\n",
    "    if(curRows == startRows):\n",
    "        df.iloc[:,:-1].to_csv('memegenerator_arrange.csv',\n",
    "                              index=0)\n",
    "    else:\n",
    "        df.iloc[:,:-1].to_csv('memegenerator_arrange.csv', mode='a',\n",
    "                              index=0, header=False)\n",
    "\n",
    "    # 決定下次讀取行數    \n",
    "    curRows += nRowsRead\n",
    "    if((curRows + nRowsRead) > totalRaw):\n",
    "        nRowsRead = totalRaw - curRows + 1"
   ]
  },
  {
   "cell_type": "code",
   "execution_count": null,
   "metadata": {},
   "outputs": [],
   "source": []
  }
 ],
 "metadata": {
  "hide_input": false,
  "kernelspec": {
   "display_name": "Python 3",
   "language": "python",
   "name": "python3"
  },
  "language_info": {
   "codemirror_mode": {
    "name": "ipython",
    "version": 3
   },
   "file_extension": ".py",
   "mimetype": "text/x-python",
   "name": "python",
   "nbconvert_exporter": "python",
   "pygments_lexer": "ipython3",
   "version": "3.6.8"
  },
  "varInspector": {
   "cols": {
    "lenName": 16,
    "lenType": 16,
    "lenVar": 40
   },
   "kernels_config": {
    "python": {
     "delete_cmd_postfix": "",
     "delete_cmd_prefix": "del ",
     "library": "var_list.py",
     "varRefreshCmd": "print(var_dic_list())"
    },
    "r": {
     "delete_cmd_postfix": ") ",
     "delete_cmd_prefix": "rm(",
     "library": "var_list.r",
     "varRefreshCmd": "cat(var_dic_list()) "
    }
   },
   "position": {
    "height": "791.5px",
    "left": "1765px",
    "right": "20px",
    "top": "193px",
    "width": "660.333px"
   },
   "types_to_exclude": [
    "module",
    "function",
    "builtin_function_or_method",
    "instance",
    "_Feature"
   ],
   "window_display": false
  }
 },
 "nbformat": 4,
 "nbformat_minor": 2
}
